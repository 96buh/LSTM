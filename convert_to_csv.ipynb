{
 "cells": [
  {
   "cell_type": "markdown",
   "metadata": {},
   "source": [
    "# 將數據轉換為csv檔案\n",
    "將以下格式的數據放到`data.txt`中\n",
    "```txt\n",
    "voltage\tcurrent\tpower\n",
    "4.62\t1.08\t4.9896\n",
    "4.62\t1.12\t5.1744\n",
    "4.59\t1.11\t5.0949\n",
    "```\n",
    "如果有相同情況的數據，會將原檔案名字加上(1), (2) ...的編號\n",
    "1. 把數據放到`data.txt`\n",
    "2. 依照測試資料更改檔案名稱(名稱可重複)\n",
    "3. 資料是否異常\n",
    "\n",
    "Run All"
   ]
  },
  {
   "cell_type": "code",
   "execution_count": 54,
   "metadata": {},
   "outputs": [
    {
     "name": "stdout",
     "output_type": "stream",
     "text": [
      "CSV 檔案儲存在：dataset/abnormal/73_關螢幕_變壓器生鏽_夜市線正常(1).csv\n"
     ]
    }
   ],
   "source": [
    "import os\n",
    "import csv\n",
    "\n",
    "\"\"\"\n",
    "輸出檔案名稱以及是否為正常資料\n",
    "\"\"\"\n",
    "output_filename = \"73_關螢幕_變壓器生鏽_夜市線正常.csv\"\n",
    "is_normal = False\n",
    "\n",
    "base_dataset_dir = \"dataset\"\n",
    "\n",
    "normal_dir = os.path.join(base_dataset_dir, \"normal\")\n",
    "abnormal_dir = os.path.join(base_dataset_dir, \"abnormal\")\n",
    "\n",
    "os.makedirs(normal_dir, exist_ok=True)\n",
    "os.makedirs(abnormal_dir, exist_ok=True)\n",
    "\n",
    "# 檢查並處理重複檔案名\n",
    "def get_unique_filename(folder, filename):\n",
    "    base_name, ext = os.path.splitext(filename)  \n",
    "    new_filename = filename\n",
    "    counter = 1\n",
    "    while os.path.exists(os.path.join(folder, new_filename)):\n",
    "        new_filename = f\"{base_name}({counter}){ext}\"\n",
    "        counter += 1\n",
    "    return new_filename\n",
    "\n",
    "# 確定輸出資料夾為正常或異常\n",
    "if is_normal:\n",
    "    output_folder = normal_dir\n",
    "else:\n",
    "    output_folder = abnormal_dir\n",
    "\n",
    "# 確定最終檔案名稱\n",
    "if os.path.exists(os.path.join(output_folder, output_filename)):\n",
    "    output_filename = get_unique_filename(output_folder, output_filename)\n",
    "\n",
    "output_path = os.path.join(output_folder, output_filename)\n",
    "\n",
    "with open('data.txt', 'r') as infile, open(output_path, 'w', newline='') as outfile:\n",
    "    writer = csv.writer(outfile)\n",
    "    for line in infile:\n",
    "        row = line.strip().split()\n",
    "        writer.writerow(row)\n",
    "\n",
    "print(f\"CSV 檔案儲存在：{output_path}\")"
   ]
  },
  {
   "cell_type": "markdown",
   "metadata": {},
   "source": [
    "# 數據圖表設定和繪圖\n",
    "讀取轉換完的csv檔案並繪製成圖儲存在`./figures`資料夾中"
   ]
  },
  {
   "cell_type": "code",
   "execution_count": 55,
   "metadata": {},
   "outputs": [
    {
     "name": "stdout",
     "output_type": "stream",
     "text": [
      "圖表已保存為 ./figures/abnormal/73_關螢幕_變壓器生鏽_夜市線正常(1).pdf\n"
     ]
    },
    {
     "data": {
      "image/png": "[encoded data removed]",
      "text/plain": [
       "<Figure size 477.377x295.035 with 1 Axes>"
      ]
     },
     "metadata": {},
     "output_type": "display_data"
    }
   ],
   "source": [
    "import pandas as pd\n",
    "import matplotlib\n",
    "import matplotlib.pyplot as plt\n",
    "\n",
    "# 設置 Matplotlib 與 LaTeX 的兼容性\n",
    "matplotlib.rcParams.update({\n",
    "    \"text.usetex\": True,\n",
    "    \"font.family\": \"serif\",\n",
    "    \"font.size\": 10,\n",
    "    \"axes.titlesize\": 10,\n",
    "    \"axes.labelsize\": 9,\n",
    "    \"xtick.labelsize\": 8,\n",
    "    \"ytick.labelsize\": 8,\n",
    "    \"legend.fontsize\": 8,\n",
    "    \"figure.titlesize\": 10,\n",
    "})\n",
    "\n",
    "# 設置圖表尺寸\n",
    "width_pt = 345  \n",
    "inches_per_pt = 1.0 / 72.27\n",
    "golden_ratio = (5**0.5 - 1) / 2\n",
    "width_in = width_pt * inches_per_pt\n",
    "height_in = width_in * golden_ratio\n",
    "\n",
    "def plot_and_save_csv(output_path, output_filename):\n",
    "    \"\"\"\n",
    "    讀取 CSV 檔案並繪製圖表，然後保存為 PDF。\n",
    "    output_path (str): 使用Pandas讀取CSV檔案的完整路徑，。\n",
    "    output_filename (str): 原始的 CSV 檔案名稱（包含 .csv）。\n",
    "    \"\"\"\n",
    "    # 去掉 .csv 後綴\n",
    "    base_filename = os.path.splitext(output_filename)[0]\n",
    "    \n",
    "    # 讀取資料\n",
    "    data = pd.read_csv(output_path)\n",
    "    \n",
    "    # 繪製圖表\n",
    "    fig, ax = plt.subplots(figsize=(width_in, height_in))\n",
    "    ax.plot(data.index, data['voltage'], label='Voltage (V)')\n",
    "    ax.plot(data.index, data['current'], label='Current (A)')\n",
    "    ax.plot(data.index, data['power'], label='Power (W)')\n",
    "    \n",
    "    # 添加標題和標籤\n",
    "    ax.set_title('Voltage, Current, and Power Over Time')\n",
    "    ax.set_xlabel('Time')\n",
    "    ax.set_ylabel('Value')\n",
    "    ax.legend(loc='upper center', bbox_to_anchor=(0.5, -0.15), ncol=3, frameon=False)\n",
    "    \n",
    "    # 添加網格\n",
    "    ax.grid(axis='y', alpha=0.7)\n",
    "    \n",
    "    # 儲存圖表為 PDF\n",
    "    if is_normal:\n",
    "        output_dir = \"./figures/normal\"\n",
    "    else:\n",
    "        output_dir = \"./figures/abnormal\"\n",
    "        \n",
    "    os.makedirs(output_dir, exist_ok=True)  # 確保目錄存在\n",
    "    output_pdf_path = os.path.join(output_dir, f\"{base_filename}.pdf\")\n",
    "    fig.savefig(output_pdf_path, bbox_inches='tight')\n",
    "    print(f\"圖表已保存為 {output_pdf_path}\")\n",
    "\n",
    "plot_and_save_csv(output_path, output_filename)"
   ]
  },
  {
   "cell_type": "code",
   "execution_count": null,
   "metadata": {},
   "outputs": [],
   "source": []
  }
 ],
 "metadata": {
  "kernelspec": {
   "display_name": ".venv",
   "language": "python",
   "name": "python3"
  },
  "language_info": {
   "codemirror_mode": {
    "name": "ipython",
    "version": 3
   },
   "file_extension": ".py",
   "mimetype": "text/x-python",
   "name": "python",
   "nbconvert_exporter": "python",
   "pygments_lexer": "ipython3",
   "version": "3.10.12"
  }
 },
 "nbformat": 4,
 "nbformat_minor": 2
}
